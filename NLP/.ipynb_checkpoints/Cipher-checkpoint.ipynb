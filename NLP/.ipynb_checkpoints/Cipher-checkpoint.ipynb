{
 "cells": [
  {
   "cell_type": "code",
   "execution_count": 2,
   "metadata": {},
   "outputs": [],
   "source": [
    "import numpy as np\n",
    "import matplotlib.pyplot as plt\n",
    "\n",
    "import string\n",
    "import random\n",
    "import re\n",
    "import requests\n",
    "import os\n",
    "import textwrap"
   ]
  },
  {
   "cell_type": "code",
   "execution_count": 3,
   "metadata": {},
   "outputs": [],
   "source": [
    "### create substitution cipher\n",
    "\n",
    "# one will act as the key, other as the value\n",
    "letters1 = list(string.ascii_lowercase)\n",
    "letters2 = list(string.ascii_lowercase)\n",
    "\n",
    "true_mapping = {}\n",
    "\n",
    "# shuffle second set of letters\n",
    "random.shuffle(letters2)\n",
    "\n",
    "# populate map\n",
    "for k, v in zip(letters1, letters2):\n",
    "  true_mapping[k] = v"
   ]
  },
  {
   "cell_type": "code",
   "execution_count": 4,
   "metadata": {},
   "outputs": [],
   "source": [
    "### the language model\n",
    "\n",
    "# initialize Markov matrix\n",
    "M = np.ones((26, 26))\n",
    "\n",
    "# initial state distribution\n",
    "pi = np.zeros(26)\n",
    "\n",
    "# a function to update the Markov matrix\n",
    "def update_transition(ch1, ch2):\n",
    "  # ord('a') = 97, ord('b') = 98, ...\n",
    "  i = ord(ch1) - 97\n",
    "  j = ord(ch2) - 97\n",
    "  M[i,j] += 1\n",
    "\n",
    "# a function to update the initial state distribution\n",
    "def update_pi(ch):\n",
    "  i = ord(ch) - 97\n",
    "  pi[i] += 1\n",
    "\n",
    "# get the log-probability of a word / token\n",
    "def get_word_prob(word):\n",
    "  # print(\"word:\", word)\n",
    "  i = ord(word[0]) - 97\n",
    "  logp = np.log(pi[i])\n",
    "\n",
    "  for ch in word[1:]:\n",
    "    j = ord(ch) - 97\n",
    "    logp += np.log(M[i, j]) # update prob\n",
    "    i = j # update j\n",
    "\n",
    "  return logp\n",
    "\n",
    "# get the probability of a sequence of words\n",
    "def get_sequence_prob(words):\n",
    "  # if input is a string, split into an array of tokens\n",
    "  if type(words) == str:\n",
    "    words = words.split()\n",
    "\n",
    "  logp = 0\n",
    "  for word in words:\n",
    "    logp += get_word_prob(word)\n",
    "  return logp"
   ]
  },
  {
   "cell_type": "code",
   "execution_count": null,
   "metadata": {},
   "outputs": [],
   "source": []
  }
 ],
 "metadata": {
  "kernelspec": {
   "display_name": "Python 3",
   "language": "python",
   "name": "python3"
  },
  "language_info": {
   "codemirror_mode": {
    "name": "ipython",
    "version": 3
   },
   "file_extension": ".py",
   "mimetype": "text/x-python",
   "name": "python",
   "nbconvert_exporter": "python",
   "pygments_lexer": "ipython3",
   "version": "3.7.6"
  }
 },
 "nbformat": 4,
 "nbformat_minor": 4
}
